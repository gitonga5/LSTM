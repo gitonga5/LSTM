{
 "cells": [
  {
   "cell_type": "markdown",
   "id": "ef2a9b57",
   "metadata": {},
   "source": [
    "##### [Problem 1] Execution of Various Methods"
   ]
  },
  {
   "cell_type": "code",
   "execution_count": 1,
   "id": "a477df37",
   "metadata": {},
   "outputs": [
    {
     "name": "stdout",
     "output_type": "stream",
     "text": [
      "Downloading data from https://storage.googleapis.com/tensorflow/tf-keras-datasets/imdb.npz\n",
      "\u001b[1m17464789/17464789\u001b[0m \u001b[32m━━━━━━━━━━━━━━━━━━━━\u001b[0m\u001b[37m\u001b[0m \u001b[1m23s\u001b[0m 1us/step\n"
     ]
    }
   ],
   "source": [
    "#Sample setup\n",
    "\n",
    "from tensorflow.keras.datasets import imdb\n",
    "from tensorflow.keras.preprocessing import sequence\n",
    "from tensorflow.keras.models import Sequential\n",
    "from tensorflow.keras.layers import Embedding, SimpleRNN, LSTM, GRU, Dense\n",
    "\n",
    "max_features = 10000\n",
    "maxlen = 500\n",
    "batch_size = 32\n",
    "\n",
    "(x_train, y_train), (x_test, y_test) = imdb.load_data(num_words=max_features)\n",
    "x_train = sequence.pad_sequences(x_train, maxlen=maxlen)\n",
    "x_test = sequence.pad_sequences(x_test, maxlen=maxlen)\n"
   ]
  },
  {
   "cell_type": "code",
   "execution_count": 2,
   "id": "7fa745bb",
   "metadata": {},
   "outputs": [],
   "source": [
    "model = Sequential()\n",
    "model.add(Embedding(max_features, 128))\n",
    "model.add(LSTM(64))  # Change to SimpleRNN(64) or GRU(64) as needed\n",
    "model.add(Dense(1, activation='sigmoid'))\n"
   ]
  },
  {
   "cell_type": "code",
   "execution_count": 3,
   "id": "adb54294",
   "metadata": {},
   "outputs": [
    {
     "name": "stdout",
     "output_type": "stream",
     "text": [
      "Epoch 1/3\n",
      "\u001b[1m625/625\u001b[0m \u001b[32m━━━━━━━━━━━━━━━━━━━━\u001b[0m\u001b[37m\u001b[0m \u001b[1m137s\u001b[0m 215ms/step - accuracy: 0.7044 - loss: 0.5379 - val_accuracy: 0.7388 - val_loss: 0.5164\n",
      "Epoch 2/3\n",
      "\u001b[1m625/625\u001b[0m \u001b[32m━━━━━━━━━━━━━━━━━━━━\u001b[0m\u001b[37m\u001b[0m \u001b[1m116s\u001b[0m 186ms/step - accuracy: 0.8632 - loss: 0.3336 - val_accuracy: 0.8422 - val_loss: 0.4452\n",
      "Epoch 3/3\n",
      "\u001b[1m625/625\u001b[0m \u001b[32m━━━━━━━━━━━━━━━━━━━━\u001b[0m\u001b[37m\u001b[0m \u001b[1m125s\u001b[0m 200ms/step - accuracy: 0.9186 - loss: 0.2166 - val_accuracy: 0.8652 - val_loss: 0.3312\n"
     ]
    },
    {
     "data": {
      "text/plain": [
       "<keras.src.callbacks.history.History at 0x18e757ba900>"
      ]
     },
     "execution_count": 3,
     "metadata": {},
     "output_type": "execute_result"
    }
   ],
   "source": [
    "model.compile(loss='binary_crossentropy', optimizer='adam', metrics=['accuracy'])\n",
    "model.fit(x_train, y_train, epochs=3, batch_size=batch_size, validation_split=0.2)\n"
   ]
  },
  {
   "cell_type": "markdown",
   "id": "f856e259",
   "metadata": {},
   "source": [
    "##### [Problem 2] Comparison with Other Datasets"
   ]
  },
  {
   "cell_type": "code",
   "execution_count": 4,
   "id": "831ed01e",
   "metadata": {},
   "outputs": [
    {
     "name": "stdout",
     "output_type": "stream",
     "text": [
      "Downloading data from https://storage.googleapis.com/tensorflow/tf-keras-datasets/reuters.npz\n",
      "\u001b[1m2110848/2110848\u001b[0m \u001b[32m━━━━━━━━━━━━━━━━━━━━\u001b[0m\u001b[37m\u001b[0m \u001b[1m3s\u001b[0m 1us/step\n"
     ]
    }
   ],
   "source": [
    "from tensorflow.keras.datasets import reuters\n",
    "from tensorflow.keras.utils import to_categorical\n",
    "\n",
    "(x_train, y_train), (x_test, y_test) = reuters.load_data(num_words=max_features)\n",
    "x_train = sequence.pad_sequences(x_train, maxlen=maxlen)\n",
    "x_test = sequence.pad_sequences(x_test, maxlen=maxlen)\n",
    "y_train = to_categorical(y_train)\n",
    "y_test = to_categorical(y_test)\n"
   ]
  },
  {
   "cell_type": "markdown",
   "id": "3dc22683",
   "metadata": {},
   "source": [
    "##### [Problem 3] Explanation of Keras RNN-related Classes"
   ]
  },
  {
   "cell_type": "markdown",
   "id": "104d3b96",
   "metadata": {},
   "source": [
    "| **Class**         | **Description**                                                                                                                                              |\n",
    "| ----------------- | ------------------------------------------------------------------------------------------------------------------------------------------------------------ |\n",
    "| `RNN`             | A base wrapper for RNN layers. It allows the use of any RNN cell (e.g., `LSTMCell`, `GRUCell`) and is useful when creating custom or stacked RNN structures. |\n",
    "| `SimpleRNNCell`   | The internal cell used in a `SimpleRNN` layer. You can use it with the `RNN` wrapper for more flexibility or custom behavior.                                |\n",
    "| `GRUCell`         | The core cell of a `GRU` layer, used for constructing custom GRU networks or stacked layers.                                                                 |\n",
    "| `LSTMCell`        | The core cell of an `LSTM` layer. Useful when fine-tuning or customizing LSTM behavior.                                                                      |\n",
    "| `StackedRNNCells` | Allows combining multiple RNN cells into a single stacked structure. Used with the `RNN` wrapper to build multi-layer RNNs manually.                         |\n",
    "| `CuDNNGRU`        | A GPU-accelerated GRU implementation optimized for NVIDIA GPUs. Deprecated in TensorFlow 2.x in favor of automatic GPU support within `GRU`.                 |\n",
    "| `CuDNNLSTM`       | A GPU-accelerated LSTM implementation optimized for NVIDIA GPUs. Also deprecated in TensorFlow 2.x; use `LSTM` directly for GPU acceleration.                |\n"
   ]
  },
  {
   "cell_type": "markdown",
   "id": "5248c366",
   "metadata": {},
   "source": []
  }
 ],
 "metadata": {
  "kernelspec": {
   "display_name": "base",
   "language": "python",
   "name": "python3"
  },
  "language_info": {
   "codemirror_mode": {
    "name": "ipython",
    "version": 3
   },
   "file_extension": ".py",
   "mimetype": "text/x-python",
   "name": "python",
   "nbconvert_exporter": "python",
   "pygments_lexer": "ipython3",
   "version": "3.12.3"
  }
 },
 "nbformat": 4,
 "nbformat_minor": 5
}
